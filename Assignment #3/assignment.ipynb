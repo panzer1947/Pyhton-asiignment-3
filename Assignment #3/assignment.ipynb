{
 "cells": [
  {
   "cell_type": "code",
   "execution_count": 2,
   "id": "f0d827ac",
   "metadata": {},
   "outputs": [
    {
     "name": "stdout",
     "output_type": "stream",
     "text": [
      "Twinkle, twinkle, little star,\n",
      "         How I wonder what you are!\n",
      "                Up above the world so high,\n",
      "                Like a diamond in the sky.\n",
      "Twinkle, twinkle, little star,\n",
      "         How I wonder what you are!\n"
     ]
    }
   ],
   "source": [
    "'''Question#1:\n",
    "Write a Python program to print the following string in a specific format (see the\n",
    "output).\n",
    "Twinkle, twinkle, little star,\n",
    "How I wonder what you are!\n",
    "Up above the world so high,\n",
    "Like a diamond in the sky.\n",
    "Twinkle, twinkle, little star,\n",
    "How I wonder what you are\n",
    "'''\n",
    "\n",
    "print(\"Twinkle, twinkle, little star,\")\n",
    "print(\"         How I wonder what you are!\")\n",
    "print(\"                Up above the world so high,\")\n",
    "print(\"                Like a diamond in the sky.\")\n",
    "print(\"Twinkle, twinkle, little star,\")\n",
    "print(\"         How I wonder what you are!\")"
   ]
  },
  {
   "cell_type": "code",
   "execution_count": 3,
   "id": "5489d84b",
   "metadata": {},
   "outputs": [
    {
     "name": "stdout",
     "output_type": "stream",
     "text": [
      "the python version is3.8.8 (default, Apr 13 2021, 15:08:03) [MSC v.1916 64 bit (AMD64)]\n"
     ]
    }
   ],
   "source": [
    "#Question:2 Write a Python program to get the Python version you are using\n",
    "import sys\n",
    "print (\"the python version is\"+sys.version)\n",
    "\n"
   ]
  },
  {
   "cell_type": "code",
   "execution_count": 7,
   "id": "ce783850",
   "metadata": {},
   "outputs": [
    {
     "name": "stdout",
     "output_type": "stream",
     "text": [
      "the current date & time is\n",
      "2021-10-24 11:49:44.316760\n"
     ]
    }
   ],
   "source": [
    "#Question 3. Write a Python program to display the current date and time.\n",
    "import datetime\n",
    "print(\"the current date & time is\")\n",
    "print( datetime.datetime.now())\n"
   ]
  },
  {
   "cell_type": "code",
   "execution_count": 10,
   "id": "fb0e0b11",
   "metadata": {},
   "outputs": [
    {
     "name": "stdout",
     "output_type": "stream",
     "text": [
      "enter area2\n",
      "total area is :12.56\n"
     ]
    }
   ],
   "source": [
    "#Question 4. Write a Python program which accepts the radius of a circle from the user and compute the area.\n",
    "rdius=input(\"enter area\")\n",
    "rdius=float(rdius)\n",
    "area=3.14*rdius**2\n",
    "print(\"total area is :\"+ str(area))\n"
   ]
  },
  {
   "cell_type": "code",
   "execution_count": 12,
   "id": "f6a1a50c",
   "metadata": {},
   "outputs": [
    {
     "name": "stdout",
     "output_type": "stream",
     "text": [
      "enter ur first namemoid\n",
      "enter ur last namefalak\n",
      "Your name in reverse is:falak  moid\n"
     ]
    }
   ],
   "source": [
    "#Question 5. Write a Python program which accepts the user's first and last name and print them inreverse order with a space between them.\n",
    "\n",
    "first =input(\"enter ur first name \")\n",
    "last =input(\"enter ur last name \")\n",
    "print(\"Your name in reverse is:\" +last + '  '+first)\n"
   ]
  },
  {
   "cell_type": "code",
   "execution_count": 17,
   "id": "02a3cf39",
   "metadata": {},
   "outputs": [
    {
     "name": "stdout",
     "output_type": "stream",
     "text": [
      "enter first value1\n",
      "enter sec value2\n",
      "addition is: 3\n"
     ]
    }
   ],
   "source": [
    "#Question 6. Write a python program which takes two inputs from user and print them addition\n",
    "val1=int(input(\"enter first value\"))\n",
    "val2=int(input(\"enter sec value\"))\n",
    "add=val1+val2\n",
    "print(\"addition is: \"+str(add))\n"
   ]
  },
  {
   "cell_type": "code",
   "execution_count": 27,
   "id": "5c0a5ef0",
   "metadata": {},
   "outputs": [
    {
     "name": "stdout",
     "output_type": "stream",
     "text": [
      "Enter marks of the first subject: 50\n",
      "Enter marks of the second subject: 50\n",
      "Enter marks of the third subject: 50\n",
      "Enter marks of the fourth subject: 50\n",
      "Enter marks of the fifth subject: 50\n",
      "Grade: D\n"
     ]
    }
   ],
   "source": [
    "#QuestionWrite a program which takes 5 inputs from user for different subject’s marks, total it and generate mark sheet using grades ?\n",
    "import math\n",
    "sub1=int(input(\"Enter marks of the first subject: \"))\n",
    "sub2=int(input(\"Enter marks of the second subject: \"))\n",
    "sub3=int(input(\"Enter marks of the third subject: \"))\n",
    "sub4=int(input(\"Enter marks of the fourth subject: \"))\n",
    "sub5=int(input(\"Enter marks of the fifth subject: \"))\n",
    "average=((sub1+sub2+sub3+sub4+sub5)/5)\n",
    "math.floor(average)\n",
    "if(average>=80):\n",
    "    print(\"Grade: A\")\n",
    "elif(average>=70 and average<80):\n",
    "    print(\"Grade: B\")\n",
    "elif(average>=60 and average<70):\n",
    "    print(\"Grade: C\")\n",
    "elif(average>=50 and average<60):\n",
    "    print(\"Grade: D\")\n",
    "elif(average<50):\n",
    "    print(\"Grade: F\")\n",
    "else:\n",
    "    print(\"Wrong value\")"
   ]
  },
  {
   "cell_type": "code",
   "execution_count": 29,
   "id": "a0876fc9",
   "metadata": {},
   "outputs": [
    {
     "name": "stdout",
     "output_type": "stream",
     "text": [
      "enter no3\n",
      "no is odd\n"
     ]
    }
   ],
   "source": [
    "#Question:8. Write a program which take input from user and identify that the given number is even or odd?\n",
    "no=int(input(\"enter no\"))\n",
    "if(no%2==0):\n",
    "    print(\"no is even\")\n",
    "else:\n",
    "        print(\"no is odd\")\n",
    "\n",
    "    "
   ]
  },
  {
   "cell_type": "code",
   "execution_count": 33,
   "id": "be2e5034",
   "metadata": {},
   "outputs": [
    {
     "name": "stdout",
     "output_type": "stream",
     "text": [
      "lenghth of list is 7\n"
     ]
    }
   ],
   "source": [
    "#Question 9. Write a program which print the length of the list?\n",
    "list1=[1,2,3,4,5,6,7]\n",
    "print(\"lenghth of list is \" +str(len(list1)))"
   ]
  },
  {
   "cell_type": "code",
   "execution_count": 35,
   "id": "07775903",
   "metadata": {},
   "outputs": [
    {
     "name": "stdout",
     "output_type": "stream",
     "text": [
      "21\n"
     ]
    }
   ],
   "source": [
    "#Question 10.Write a Python program to sum all the numeric items in a list?\n",
    "list2=[1,2,3,4,5,6]\n",
    "total = 0\n",
    "for item in range(0, len(list2)):\n",
    "    total = total + list1[item]\n",
    "print(total)"
   ]
  },
  {
   "cell_type": "code",
   "execution_count": 37,
   "id": "3806880d",
   "metadata": {},
   "outputs": [
    {
     "name": "stdout",
     "output_type": "stream",
     "text": [
      "The largest sorted list is:7\n"
     ]
    }
   ],
   "source": [
    "#Question 11.Write a Python program to get the largest number from a numeric list.\n",
    "list3=[1,2,3,4,5,6,7]\n",
    "list3.sort()\n",
    "print(\"The largest sorted list is:\"+str(list3[-1]))"
   ]
  },
  {
   "cell_type": "code",
   "execution_count": 40,
   "id": "a2abaa4d",
   "metadata": {},
   "outputs": [
    {
     "name": "stdout",
     "output_type": "stream",
     "text": [
      "8\n",
      "8\n",
      "13\n",
      "21\n",
      "34\n",
      "55\n",
      "89\n"
     ]
    }
   ],
   "source": [
    "#Question12 :Write a program that prints out all the elements of the list that are less than 5.\n",
    "a = [1, 1, 2, 3, 5, 8,8, 13, 21, 34, 55, 89]\n",
    "for it in a:\n",
    "\n",
    "    if it > 5:\n",
    "\n",
    "        print(it)"
   ]
  },
  {
   "cell_type": "code",
   "execution_count": null,
   "id": "9c9ed1f4",
   "metadata": {},
   "outputs": [],
   "source": []
  }
 ],
 "metadata": {
  "kernelspec": {
   "display_name": "Python 3",
   "language": "python",
   "name": "python3"
  },
  "language_info": {
   "codemirror_mode": {
    "name": "ipython",
    "version": 3
   },
   "file_extension": ".py",
   "mimetype": "text/x-python",
   "name": "python",
   "nbconvert_exporter": "python",
   "pygments_lexer": "ipython3",
   "version": "3.8.8"
  }
 },
 "nbformat": 4,
 "nbformat_minor": 5
}
