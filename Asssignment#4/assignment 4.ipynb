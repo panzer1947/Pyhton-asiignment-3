{
 "cells": [
  {
   "cell_type": "code",
   "execution_count": 6,
   "id": "9c6f8577",
   "metadata": {},
   "outputs": [
    {
     "name": "stdout",
     "output_type": "stream",
     "text": [
      "enter first no4\n",
      "enter second no4\n",
      "Press 1 to add number,\n",
      "Press 2 to subtract no,\n",
      "Press 3 to multiply no,\n",
      "Press 4 to Divide number\n",
      "7\n",
      "wrong input\n"
     ]
    }
   ],
   "source": [
    "#Question1: Make a calculator using Python with addition , subtraction ,multiplication ,division and power.\n",
    "\n",
    "num1=(int(input(\"enter first no\")))\n",
    "num2=(int(input(\"enter second no\")))\n",
    "ch=(int(input(\"Press 1 to add number,\\nPress 2 to subtract no,\\nPress 3 to multiply no,\\nPress 4 to Divide number\\n\")))\n",
    "\n",
    "if(ch==1):\n",
    "    print(num1+num2)\n",
    "elif(ch==2):\n",
    "    print(num1-num2)\n",
    "elif(ch==3):\n",
    "    print(num1*num2)\n",
    "elif(ch==4):\n",
    "    print(num1/num2)\n",
    "else:\n",
    "    print(\"wrong input\")"
   ]
  },
  {
   "cell_type": "code",
   "execution_count": 11,
   "id": "1e538906",
   "metadata": {},
   "outputs": [
    {
     "name": "stdout",
     "output_type": "stream",
     "text": [
      "no int value\n",
      "there is int value\n"
     ]
    }
   ],
   "source": [
    "#Question2. Write a program to check if there is any numeric value in list using for loop.\n",
    "list1=['moid','pak','inna']\n",
    "list2=[1,'pak','inna']\n",
    "chk=[]\n",
    "chk2=[]\n",
    "for i in list1:\n",
    "    if type(i)==int:\n",
    "           chk.append(i)\n",
    "if len(chk)==0:\n",
    "    print('no int value')\n",
    "for x in list2:\n",
    "    if type(x)==int:\n",
    "           chk2.append(i)\n",
    "if len(chk2)==0:\n",
    "    print('no int value')\n",
    "else:\n",
    "    print('there is int value')\n",
    "    \n",
    "        "
   ]
  },
  {
   "cell_type": "code",
   "execution_count": 15,
   "id": "cd5e2cac",
   "metadata": {},
   "outputs": [
    {
     "name": "stdout",
     "output_type": "stream",
     "text": [
      "{1: 'moid', 2: 'Zehri'}\n",
      "enter key value\n",
      "3\n",
      "enter dictionary value\n",
      "shaan\n",
      "{1: 'moid', 2: 'Zehri', 3: 'shaan'}\n"
     ]
    }
   ],
   "source": [
    "#Question 3. Write a Python script to add a key to a dictionary.\n",
    "dic={1:\"moid\",2:\"Zehri\"}\n",
    "print(dic)\n",
    "keys=int(input('enter key value\\n'))\n",
    "dics=input('enter dictionary value\\n')\n",
    "dic.update({keys:dics})\n",
    "print(dic)\n"
   ]
  },
  {
   "cell_type": "code",
   "execution_count": 16,
   "id": "0ca98e91",
   "metadata": {},
   "outputs": [
    {
     "name": "stdout",
     "output_type": "stream",
     "text": [
      "60\n"
     ]
    }
   ],
   "source": [
    "#Question4. Write a Python program to sum all the numeric items in a dictionary.\n",
    "dic1={1:10,2:20,3:30}\n",
    "adds=sum(dic1.values())\n",
    "print(adds)"
   ]
  },
  {
   "cell_type": "code",
   "execution_count": 18,
   "id": "f133a0c9",
   "metadata": {},
   "outputs": [
    {
     "name": "stdout",
     "output_type": "stream",
     "text": [
      "[3, 44]\n"
     ]
    }
   ],
   "source": [
    "#Question5. Write a program to identify duplicate values from list.\n",
    "\n",
    "no=[1,2,3,3,44,44,100,334]\n",
    "chks=[]\n",
    "nots=[]\n",
    "for n in no:\n",
    "    if n not in chks:\n",
    "        chks.append(n)\n",
    "    else:\n",
    "        nots.append(n)\n",
    "print(nots)\n",
    "        "
   ]
  },
  {
   "cell_type": "code",
   "execution_count": 21,
   "id": "d10e19ba",
   "metadata": {},
   "outputs": [
    {
     "name": "stdout",
     "output_type": "stream",
     "text": [
      "enter k value to check\n",
      "5\n",
      "value is not present\n"
     ]
    }
   ],
   "source": [
    "#Question6. Write a Python script to check if a given key already exists in a dictionary\n",
    "\n",
    "diction={1:'moid',2:'abbass',3:'bhatti'}\n",
    "m=int(input(\"enter k value to check\\n\"))\n",
    "if m in diction:\n",
    "    print(\"value is present\")\n",
    "else:\n",
    "    print(\"value is not present\")"
   ]
  },
  {
   "cell_type": "code",
   "execution_count": null,
   "id": "79c7ca0b",
   "metadata": {},
   "outputs": [],
   "source": []
  }
 ],
 "metadata": {
  "kernelspec": {
   "display_name": "Python 3",
   "language": "python",
   "name": "python3"
  },
  "language_info": {
   "codemirror_mode": {
    "name": "ipython",
    "version": 3
   },
   "file_extension": ".py",
   "mimetype": "text/x-python",
   "name": "python",
   "nbconvert_exporter": "python",
   "pygments_lexer": "ipython3",
   "version": "3.8.8"
  }
 },
 "nbformat": 4,
 "nbformat_minor": 5
}
